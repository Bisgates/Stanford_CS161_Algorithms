{
 "cells": [
  {
   "cell_type": "code",
   "execution_count": 7,
   "metadata": {
    "collapsed": true
   },
   "outputs": [],
   "source": [
    "import tensorflow as tf\n",
    "import numpy as np\n",
    "import matplotlib.pyplot as plt\n",
    "import keras\n",
    "from imageio import imread, imsave\n",
    "from random import shuffle\n",
    "import glob\n",
    "\n",
    "%matplotlib inline"
   ]
  },
  {
   "cell_type": "code",
   "execution_count": 24,
   "metadata": {},
   "outputs": [
    {
     "name": "stdout",
     "output_type": "stream",
     "text": [
      "(1, array([1]))\n",
      "(2, array([1, 1]))\n"
     ]
    }
   ],
   "source": [
    "import itertools\n",
    "\n",
    "def gen():\n",
    "  for i in itertools.count(1):\n",
    "    yield (i, [1] * i)\n",
    "\n",
    "ds = tf.data.Dataset.from_generator(\n",
    "    gen, (tf.int64, tf.int64), (tf.TensorShape([]), tf.TensorShape([None])))\n",
    "\n",
    "def fun1(x):\n",
    "#     print(x)\n",
    "\n",
    "    return x\n",
    "\n",
    "# ds = ds.apply(fun1)\n",
    "\n",
    "value = ds.make_one_shot_iterator().get_next()\n",
    "\n",
    "with tf.Session() as sess:\n",
    "#     print(sess.run(tf.data.Dataset.range(5)))\n",
    "    print(sess.run(value))  # (1, array([1]))\n",
    "    print(sess.run(value))  # (2, array([1, 1]))\n"
   ]
  },
  {
   "cell_type": "code",
   "execution_count": 20,
   "metadata": {},
   "outputs": [
    {
     "data": {
      "text/plain": [
       "<RangeDataset shapes: (), types: tf.int64>"
      ]
     },
     "execution_count": 20,
     "metadata": {},
     "output_type": "execute_result"
    }
   ],
   "source": []
  },
  {
   "cell_type": "code",
   "execution_count": 2,
   "metadata": {
    "collapsed": true
   },
   "outputs": [],
   "source": [
    "def _int64_feature(value):\n",
    "    return tf.train.Feature(int64_list=tf.train.Int64List(value=[value]))\n",
    "def _bytes_feature(value):\n",
    "    return tf.train.Feature(bytes_list=tf.train.BytesList(value=[value]))"
   ]
  },
  {
   "cell_type": "code",
   "execution_count": 3,
   "metadata": {
    "collapsed": true
   },
   "outputs": [],
   "source": [
    "def load_image(addr):\n",
    "    img = imread(addr)\n",
    "    return img"
   ]
  },
  {
   "cell_type": "code",
   "execution_count": null,
   "metadata": {
    "collapsed": true
   },
   "outputs": [],
   "source": [
    "def createDataRecord(out_filename, addrs, labels):\n",
    "    \n",
    "    write = tf.python_io.TFRecordWriter(out_filename)\n",
    "    for addr, age in addrs.items():\n",
    "        img = load_image(addr)\n",
    "        label = age\n",
    "        feature = {\n",
    "            'image_raw': _bytes_feature(img.tostring()),\n",
    "            'label':_int64_feature(label)\n",
    "        }\n",
    "\n",
    "        example = tf.train.Example(features=tf.train.Features(feature=feature))\n",
    "\n",
    "        writer.write(example.SerializeToString())\n",
    "\n",
    "    writer.close()"
   ]
  },
  {
   "cell_type": "markdown",
   "metadata": {},
   "source": [
    "# couting inversion numbers"
   ]
  },
  {
   "cell_type": "code",
   "execution_count": 2,
   "metadata": {
    "collapsed": true
   },
   "outputs": [],
   "source": [
    "def count_split(B, C):\n",
    "\t\" Return the number of inbersions during the merge process\"\n",
    "\tD = []\n",
    "\tcount = 0\n",
    "\twhile len(B) != 0 and len(C) != 0:\n",
    "\t\tif B[0] <= C[0]:\n",
    "\t\t\tD.append(B.pop(0))\n",
    "\t\telse:\n",
    "\t\t\tcount += len(B)\n",
    "\t\t\tD.append(C.pop(0))\n",
    "\treturn count, D+B+C\n",
    "\n",
    "def count(A):\n",
    "\t\" Return the number of inversions of A and sorted array of A \"\n",
    "\tn = len(A)\n",
    "\tif n <= 1:\n",
    "\t\treturn 0, A\n",
    "\tmid = int(n/2)\n",
    "\tb, B = count(A[:mid])\n",
    "\tc, C = count(A[mid:])\n",
    "\td, D = count_split(B, C)\n",
    "\treturn b+c+d, D\n",
    "\n",
    "def count_inversions(A):\n",
    "\t\" Return the number of inversions in array A\"\n",
    "\treturn count(A)[0]"
   ]
  },
  {
   "cell_type": "code",
   "execution_count": 6,
   "metadata": {
    "collapsed": true
   },
   "outputs": [],
   "source": [
    "with open('IntegerArray.txt') as file:\n",
    "\tA = [int(line.strip()) for line in file]"
   ]
  },
  {
   "cell_type": "code",
   "execution_count": 7,
   "metadata": {},
   "outputs": [
    {
     "data": {
      "text/plain": [
       "100000"
      ]
     },
     "execution_count": 7,
     "metadata": {},
     "output_type": "execute_result"
    }
   ],
   "source": [
    "len(A)"
   ]
  },
  {
   "cell_type": "code",
   "execution_count": 8,
   "metadata": {},
   "outputs": [
    {
     "data": {
      "text/plain": [
       "54044"
      ]
     },
     "execution_count": 8,
     "metadata": {},
     "output_type": "execute_result"
    }
   ],
   "source": [
    "A[0]"
   ]
  },
  {
   "cell_type": "code",
   "execution_count": 9,
   "metadata": {},
   "outputs": [
    {
     "name": "stdout",
     "output_type": "stream",
     "text": [
      "2407905288\n"
     ]
    }
   ],
   "source": [
    "\n",
    "\n",
    "print(count_inversions(A))\n"
   ]
  },
  {
   "cell_type": "code",
   "execution_count": null,
   "metadata": {
    "collapsed": true
   },
   "outputs": [],
   "source": [
    "assert count_inversions([1,3,5,2,4,6]) == 3\n",
    "assert count_inversions([6,5,4,3,2,1]) == 15\n",
    "assert count_inversions([1,2,3,4,5,6]) == 0\n",
    "assert count_inversions([1]) == 0\n",
    "assert count_inversions([]) == 0"
   ]
  },
  {
   "cell_type": "code",
   "execution_count": null,
   "metadata": {
    "collapsed": true
   },
   "outputs": [],
   "source": []
  },
  {
   "cell_type": "code",
   "execution_count": 123,
   "metadata": {
    "collapsed": true
   },
   "outputs": [],
   "source": [
    "log = []"
   ]
  },
  {
   "cell_type": "code",
   "execution_count": 133,
   "metadata": {
    "collapsed": true
   },
   "outputs": [],
   "source": [
    "def kara_multiply(x, y) -> int:\n",
    "\tif len(x) == len(y) == 1:\n",
    "\t\treturn int(x)*int(y)\n",
    "\tx, y = pre_process(x, y)\n",
    "\tn = len(x)\n",
    "\tmid = int(n/2)\n",
    "\ta, b = x[:mid], x[mid:]\n",
    "\tc, d = y[:mid], y[mid:]\n",
    "\tp = str(int(a) + int(b))\n",
    "\tq = str(int(c) + int(d))\n",
    "\tac = kara_multiply(a, c)\n",
    "\tbd = kara_multiply(b, d)\n",
    "\tabcd = kara_multiply(p, q) - ac - bd\n",
    "\treturn 10**n*ac + 10**mid*abcd + bd\n",
    "\n",
    "def pre_process(x, y):\n",
    "\tm = max(len(x),len(y))\n",
    "\tn = 1\n",
    "\twhile n < m:\n",
    "\t\tn *= 2\n",
    "\tx = (n-len(x))*'0' + x\n",
    "\ty = (n-len(y))*'0' + y\n",
    "\treturn x, y"
   ]
  },
  {
   "cell_type": "code",
   "execution_count": 124,
   "metadata": {
    "collapsed": true
   },
   "outputs": [],
   "source": [
    "def big_num_multi(x, y):\n",
    "    if len(x) == 1:\n",
    "        log.append([len(x),len(y)])\n",
    "        return int(x)*int(y)\n",
    "    x, y, n = pre_process(x, y)\n",
    "    mid = int(n/2)\n",
    "    a, b = x[mid:], x[:mid]\n",
    "    c, d = y[mid:], y[:mid]\n",
    "    ac = big_num_multi(a, c)\n",
    "    bd = big_num_multi(b, d)\n",
    "    p = str(int(a) + int(b))\n",
    "    q = str(int(c) + int(d))\n",
    "    abcd = big_num_multi(p, q) - ac - bd\n",
    "    return ac + abcd*10**mid + bd*10**n"
   ]
  },
  {
   "cell_type": "code",
   "execution_count": 125,
   "metadata": {
    "collapsed": true
   },
   "outputs": [],
   "source": [
    "def pre_process(x, y):\n",
    "    n = max(len(x), len(y))\n",
    "    if n%2 != 0:\n",
    "        n += 1\n",
    "    return '0'*(n-len(x))+x, '0'*(n-len(y))+y,  n"
   ]
  },
  {
   "cell_type": "code",
   "execution_count": 135,
   "metadata": {
    "collapsed": true
   },
   "outputs": [],
   "source": [
    "a = '432545463457657868768746576574354346354645345643564364765456754564565456'\n",
    "b = '480000000000000000000000000000000000'"
   ]
  },
  {
   "cell_type": "code",
   "execution_count": 127,
   "metadata": {},
   "outputs": [
    {
     "name": "stdout",
     "output_type": "stream",
     "text": [
      "207621822459675777008998356755690086250229765908910895087419242190991418880000000000000000000000000000000000\n"
     ]
    }
   ],
   "source": [
    "result = big_num_multi(a,b)\n",
    "assert result == int(a)*int(b)\n",
    "\n",
    "print(result)"
   ]
  },
  {
   "cell_type": "code",
   "execution_count": 136,
   "metadata": {},
   "outputs": [
    {
     "name": "stdout",
     "output_type": "stream",
     "text": [
      "207621822459675777008998356755690086250229765908910895087419242190991418880000000000000000000000000000000000\n"
     ]
    }
   ],
   "source": [
    "result = kara_multiply(a,b)\n",
    "assert result == int(a)*int(b)\n",
    "\n",
    "print(result)"
   ]
  },
  {
   "cell_type": "code",
   "execution_count": 65,
   "metadata": {},
   "outputs": [
    {
     "data": {
      "text/plain": [
       "('0000000000000003', '0000000432444234', 16)"
      ]
     },
     "execution_count": 65,
     "metadata": {},
     "output_type": "execute_result"
    }
   ],
   "source": [
    "pre_process('3','432444234')"
   ]
  },
  {
   "cell_type": "code",
   "execution_count": 128,
   "metadata": {},
   "outputs": [
    {
     "data": {
      "text/plain": [
       "2375"
      ]
     },
     "execution_count": 128,
     "metadata": {},
     "output_type": "execute_result"
    }
   ],
   "source": [
    "len(log)"
   ]
  },
  {
   "cell_type": "code",
   "execution_count": 130,
   "metadata": {},
   "outputs": [
    {
     "name": "stdout",
     "output_type": "stream",
     "text": [
      "1 2\n",
      "1 2\n",
      "1 2\n",
      "1 2\n",
      "1 2\n",
      "1 2\n",
      "1 2\n",
      "1 2\n",
      "1 2\n",
      "1 2\n",
      "1 2\n",
      "1 2\n",
      "1 2\n",
      "1 2\n"
     ]
    }
   ],
   "source": [
    "for a, b in log:\n",
    "    if a != b:\n",
    "        print(a,b)"
   ]
  },
  {
   "cell_type": "markdown",
   "metadata": {
    "collapsed": true
   },
   "source": [
    "# min cut"
   ]
  },
  {
   "cell_type": "code",
   "execution_count": 350,
   "metadata": {
    "collapsed": true
   },
   "outputs": [],
   "source": [
    "import random\n"
   ]
  },
  {
   "cell_type": "code",
   "execution_count": 366,
   "metadata": {
    "collapsed": true
   },
   "outputs": [],
   "source": [
    "lis = []\n",
    "with open('kargerMinCut.txt') as file:\n",
    "    for line in file:\n",
    "        lis.append(list(map(int, line.split())))\n",
    "\n",
    "def build_graph():\n",
    "    # build the graph\n",
    "    return {line[0]:line[1:] for line in lis}"
   ]
  },
  {
   "cell_type": "code",
   "execution_count": 277,
   "metadata": {
    "collapsed": true
   },
   "outputs": [],
   "source": []
  },
  {
   "cell_type": "code",
   "execution_count": 16,
   "metadata": {
    "collapsed": true
   },
   "outputs": [],
   "source": [
    "keys = list(graph.keys())"
   ]
  },
  {
   "cell_type": "code",
   "execution_count": 34,
   "metadata": {
    "collapsed": true
   },
   "outputs": [],
   "source": [
    "connections = []\n",
    "for key in keys:\n",
    "    for ele in graph[key]:\n",
    "        connections.append([key, ele])"
   ]
  },
  {
   "cell_type": "code",
   "execution_count": 36,
   "metadata": {},
   "outputs": [
    {
     "data": {
      "text/plain": [
       "5034"
      ]
     },
     "execution_count": 36,
     "metadata": {},
     "output_type": "execute_result"
    }
   ],
   "source": [
    "len(connections)"
   ]
  },
  {
   "cell_type": "code",
   "execution_count": 41,
   "metadata": {
    "collapsed": true
   },
   "outputs": [],
   "source": [
    "selection = random.sample(connections,1)[0]\n",
    "\n",
    "node_1, node_2 = min(selection), max(selection)"
   ]
  },
  {
   "cell_type": "code",
   "execution_count": 46,
   "metadata": {},
   "outputs": [
    {
     "data": {
      "text/plain": [
       "(38, 160)"
      ]
     },
     "execution_count": 46,
     "metadata": {},
     "output_type": "execute_result"
    }
   ],
   "source": [
    "node_1, node_2"
   ]
  },
  {
   "cell_type": "code",
   "execution_count": 61,
   "metadata": {
    "scrolled": true
   },
   "outputs": [
    {
     "data": {
      "text/plain": [
       "[91,\n",
       " 185,\n",
       " 53,\n",
       " 32,\n",
       " 120,\n",
       " 155,\n",
       " 6,\n",
       " 9,\n",
       " 18,\n",
       " 127,\n",
       " 171,\n",
       " 118,\n",
       " 113,\n",
       " 119,\n",
       " 151,\n",
       " 26,\n",
       " 46,\n",
       " 195,\n",
       " 200,\n",
       " 73,\n",
       " 98,\n",
       " 75,\n",
       " 139,\n",
       " 40,\n",
       " 1,\n",
       " 5,\n",
       " 198]"
      ]
     },
     "execution_count": 61,
     "metadata": {},
     "output_type": "execute_result"
    }
   ],
   "source": [
    "graph[node_1] = [ele for ele in graph[node_1] if ele != node_2]\n",
    "graph[node_2] = [ele for ele in graph[node_2] if ele != node_1]\n",
    "graph[node_1].extend(graph[node_2])\n",
    "graph.pop(node_2)"
   ]
  },
  {
   "cell_type": "code",
   "execution_count": null,
   "metadata": {
    "collapsed": true
   },
   "outputs": [],
   "source": [
    "for key in keys:\n",
    "    graph[key] = [ele if ele != node_2 else node_1 for ele in graph[key]]"
   ]
  },
  {
   "cell_type": "code",
   "execution_count": null,
   "metadata": {
    "collapsed": true
   },
   "outputs": [],
   "source": []
  },
  {
   "cell_type": "code",
   "execution_count": null,
   "metadata": {
    "collapsed": true
   },
   "outputs": [],
   "source": []
  },
  {
   "cell_type": "code",
   "execution_count": 389,
   "metadata": {
    "collapsed": true
   },
   "outputs": [],
   "source": [
    "def merge(graph):\n",
    "    keys = list(graph.keys())\n",
    "    connections = [[key, ele] for key in keys for ele in graph[key]]\n",
    "    selection = random.sample(connections,1)[0]\n",
    "    node_1, node_2 = min(selection), max(selection)\n",
    "    graph[node_1] = [ele for ele in graph[node_1] if ele != node_2]\n",
    "    graph[node_1].extend([ele for ele in graph[node_2] if ele != node_1])\n",
    "    graph.pop(node_2)\n",
    "    keys.remove(node_2)\n",
    "    for key in keys:\n",
    "        graph[key] = [ele if ele != node_2 else node_1 for ele in graph[key]]\n",
    "\n",
    "result = []\n",
    "def min_cut(i):\n",
    "    global result\n",
    "    graph = build_graph()\n",
    "    for _ in range(len(graph)-2):\n",
    "        merge(graph)\n",
    "    connection = len(graph[1])\n",
    "    result.append(connection)\n",
    "#     return connection"
   ]
  },
  {
   "cell_type": "code",
   "execution_count": 381,
   "metadata": {
    "collapsed": true
   },
   "outputs": [],
   "source": [
    "from tqdm import tqdm\n",
    "import concurrent.futures\n",
    "from time import time"
   ]
  },
  {
   "cell_type": "code",
   "execution_count": 390,
   "metadata": {
    "scrolled": true
   },
   "outputs": [
    {
     "name": "stdout",
     "output_type": "stream",
     "text": [
      "36.401248931884766\n"
     ]
    }
   ],
   "source": [
    "t0 = time()\n",
    "graph = build_graph()\n",
    "n = len(graph)\n",
    "mini = n\n",
    "\n",
    "u = []\n",
    "with concurrent.futures.ProcessPoolExecutor() as executor:\n",
    "    executor.map(min_cut, range(n-2))\n",
    "print(time()-t0)\n"
   ]
  },
  {
   "cell_type": "code",
   "execution_count": 392,
   "metadata": {},
   "outputs": [
    {
     "data": {
      "text/plain": [
       "0"
      ]
     },
     "execution_count": 392,
     "metadata": {},
     "output_type": "execute_result"
    }
   ],
   "source": [
    "len(result)"
   ]
  },
  {
   "cell_type": "code",
   "execution_count": 394,
   "metadata": {},
   "outputs": [
    {
     "name": "stderr",
     "output_type": "stream",
     "text": [
      "100%|██████████| 200/200 [01:18<00:00,  2.47it/s]"
     ]
    },
    {
     "name": "stdout",
     "output_type": "stream",
     "text": [
      "17\n"
     ]
    },
    {
     "name": "stderr",
     "output_type": "stream",
     "text": [
      "\n"
     ]
    }
   ],
   "source": [
    "graph = build_graph()\n",
    "n = len(graph)\n",
    "mini = n\n",
    "\n",
    "for i in tqdm(range(n)):\n",
    "    graph = build_graph()\n",
    "    for _ in range(len(graph)-2):\n",
    "        merge(graph)\n",
    "    connection = len(graph[1])\n",
    "    if connection < mini:\n",
    "        mini = connection\n",
    "print(mini)\n"
   ]
  },
  {
   "cell_type": "code",
   "execution_count": null,
   "metadata": {
    "collapsed": true
   },
   "outputs": [],
   "source": []
  },
  {
   "cell_type": "code",
   "execution_count": null,
   "metadata": {
    "collapsed": true
   },
   "outputs": [],
   "source": []
  }
 ],
 "metadata": {
  "kernelspec": {
   "display_name": "Python 3",
   "language": "python",
   "name": "python3"
  },
  "language_info": {
   "codemirror_mode": {
    "name": "ipython",
    "version": 3
   },
   "file_extension": ".py",
   "mimetype": "text/x-python",
   "name": "python",
   "nbconvert_exporter": "python",
   "pygments_lexer": "ipython3",
   "version": "3.5.2"
  }
 },
 "nbformat": 4,
 "nbformat_minor": 2
}
